{
 "cells": [
  {
   "cell_type": "code",
   "execution_count": 3,
   "id": "3c31be69",
   "metadata": {},
   "outputs": [
    {
     "name": "stdout",
     "output_type": "stream",
     "text": [
      "enter surnameanumala\n",
      "enter namekirankumar\n"
     ]
    }
   ],
   "source": [
    "s,n=input('enter surname'),input('enter name')"
   ]
  },
  {
   "cell_type": "code",
   "execution_count": 9,
   "id": "c0ceb985",
   "metadata": {},
   "outputs": [
    {
     "data": {
      "text/plain": [
       "'Anumala'"
      ]
     },
     "execution_count": 9,
     "metadata": {},
     "output_type": "execute_result"
    }
   ],
   "source": [
    "a=s.capitalize()\n",
    "a\n"
   ]
  },
  {
   "cell_type": "code",
   "execution_count": 11,
   "id": "58515e5d",
   "metadata": {},
   "outputs": [
    {
     "data": {
      "text/plain": [
       "'Kirankumar'"
      ]
     },
     "execution_count": 11,
     "metadata": {},
     "output_type": "execute_result"
    }
   ],
   "source": [
    "b=n.capitalize()\n",
    "b"
   ]
  },
  {
   "cell_type": "code",
   "execution_count": 12,
   "id": "3f69a76e",
   "metadata": {},
   "outputs": [
    {
     "name": "stdout",
     "output_type": "stream",
     "text": [
      "Anumala Kirankumar\n"
     ]
    }
   ],
   "source": [
    "print(a,b)"
   ]
  },
  {
   "cell_type": "code",
   "execution_count": 13,
   "id": "6e44fc97",
   "metadata": {},
   "outputs": [
    {
     "name": "stdout",
     "output_type": "stream",
     "text": [
      "A.Kirankumar\n"
     ]
    }
   ],
   "source": [
    "print(a[0]+'.'+b)"
   ]
  },
  {
   "cell_type": "code",
   "execution_count": 14,
   "id": "9af5e067",
   "metadata": {},
   "outputs": [
    {
     "name": "stdout",
     "output_type": "stream",
     "text": [
      "Kirankumar\n"
     ]
    }
   ],
   "source": [
    "if len(b)<15:        # Prints upto limitting 15\n",
    "    print(b)\n",
    "elif len(b)>=15:\n",
    "    for i in b:\n",
    "        print(i,end='')"
   ]
  },
  {
   "cell_type": "code",
   "execution_count": null,
   "id": "ce302739",
   "metadata": {},
   "outputs": [],
   "source": []
  }
 ],
 "metadata": {
  "kernelspec": {
   "display_name": "Python 3 (ipykernel)",
   "language": "python",
   "name": "python3"
  },
  "language_info": {
   "codemirror_mode": {
    "name": "ipython",
    "version": 3
   },
   "file_extension": ".py",
   "mimetype": "text/x-python",
   "name": "python",
   "nbconvert_exporter": "python",
   "pygments_lexer": "ipython3",
   "version": "3.10.9"
  }
 },
 "nbformat": 4,
 "nbformat_minor": 5
}
