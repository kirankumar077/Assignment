{
 "cells": [
  {
   "cell_type": "code",
   "execution_count": 11,
   "id": "84c4558c",
   "metadata": {},
   "outputs": [],
   "source": [
    "import pandas as pd\n",
    "import numpy as np\n",
    "data={'Subject_name':['ttnm','dld','m1','ma','edc','mi','m2','m3','py','ac','dc','cs','dataStruc','ds','mil','english','na1','na2'] ,\n",
    "'Subdivision': ['Gen','ec','ec','gen','ee','ec','ee','ge','ge','ee','ee','ee','cs','Gen','ee','Gen','ee',\"ee\"] ,\n",
    "'Year': [2020,2020,2022,2022,2020,2020,2021,2021,2021,2021,2021,2022,2021,2021,2022,2021,2022,2022],\n",
    "'Semester':[4,3,5,5,3,6,6,5,6,5,6,5,4,6,7,5,7,8] ,     \n",
    "'Marks_scored': [92,93,66,64,75,69,55,78,48,65,66,68,59,99,96,97,93,99],\n",
    "'Max_marks':[100,100,100,100,100,100,100,100,100,100,100,100,100,100,100,100,100,100] ,\n",
    "'Grade':['o','o','c','c','b','c','d','b','e','c','c','c','d','o','o','o','o','o']\n",
    "}"
   ]
  },
  {
   "cell_type": "code",
   "execution_count": 14,
   "id": "a92317b1",
   "metadata": {},
   "outputs": [
    {
     "data": {
      "text/html": [
       "<div>\n",
       "<style scoped>\n",
       "    .dataframe tbody tr th:only-of-type {\n",
       "        vertical-align: middle;\n",
       "    }\n",
       "\n",
       "    .dataframe tbody tr th {\n",
       "        vertical-align: top;\n",
       "    }\n",
       "\n",
       "    .dataframe thead th {\n",
       "        text-align: right;\n",
       "    }\n",
       "</style>\n",
       "<table border=\"1\" class=\"dataframe\">\n",
       "  <thead>\n",
       "    <tr style=\"text-align: right;\">\n",
       "      <th></th>\n",
       "      <th>Subject_name</th>\n",
       "      <th>Subdivision</th>\n",
       "      <th>Year</th>\n",
       "      <th>Semester</th>\n",
       "      <th>Marks_scored</th>\n",
       "      <th>Max_marks</th>\n",
       "      <th>Grade</th>\n",
       "    </tr>\n",
       "  </thead>\n",
       "  <tbody>\n",
       "    <tr>\n",
       "      <th>0</th>\n",
       "      <td>ttnm</td>\n",
       "      <td>Gen</td>\n",
       "      <td>2020</td>\n",
       "      <td>4</td>\n",
       "      <td>92</td>\n",
       "      <td>100</td>\n",
       "      <td>o</td>\n",
       "    </tr>\n",
       "    <tr>\n",
       "      <th>1</th>\n",
       "      <td>dld</td>\n",
       "      <td>ec</td>\n",
       "      <td>2020</td>\n",
       "      <td>3</td>\n",
       "      <td>93</td>\n",
       "      <td>100</td>\n",
       "      <td>o</td>\n",
       "    </tr>\n",
       "    <tr>\n",
       "      <th>2</th>\n",
       "      <td>m1</td>\n",
       "      <td>ec</td>\n",
       "      <td>2022</td>\n",
       "      <td>5</td>\n",
       "      <td>66</td>\n",
       "      <td>100</td>\n",
       "      <td>c</td>\n",
       "    </tr>\n",
       "    <tr>\n",
       "      <th>3</th>\n",
       "      <td>ma</td>\n",
       "      <td>gen</td>\n",
       "      <td>2022</td>\n",
       "      <td>5</td>\n",
       "      <td>64</td>\n",
       "      <td>100</td>\n",
       "      <td>c</td>\n",
       "    </tr>\n",
       "    <tr>\n",
       "      <th>4</th>\n",
       "      <td>edc</td>\n",
       "      <td>ee</td>\n",
       "      <td>2020</td>\n",
       "      <td>3</td>\n",
       "      <td>75</td>\n",
       "      <td>100</td>\n",
       "      <td>b</td>\n",
       "    </tr>\n",
       "    <tr>\n",
       "      <th>5</th>\n",
       "      <td>mi</td>\n",
       "      <td>ec</td>\n",
       "      <td>2020</td>\n",
       "      <td>6</td>\n",
       "      <td>69</td>\n",
       "      <td>100</td>\n",
       "      <td>c</td>\n",
       "    </tr>\n",
       "    <tr>\n",
       "      <th>6</th>\n",
       "      <td>m2</td>\n",
       "      <td>ee</td>\n",
       "      <td>2021</td>\n",
       "      <td>6</td>\n",
       "      <td>55</td>\n",
       "      <td>100</td>\n",
       "      <td>d</td>\n",
       "    </tr>\n",
       "    <tr>\n",
       "      <th>7</th>\n",
       "      <td>m3</td>\n",
       "      <td>ge</td>\n",
       "      <td>2021</td>\n",
       "      <td>5</td>\n",
       "      <td>78</td>\n",
       "      <td>100</td>\n",
       "      <td>b</td>\n",
       "    </tr>\n",
       "    <tr>\n",
       "      <th>8</th>\n",
       "      <td>py</td>\n",
       "      <td>ge</td>\n",
       "      <td>2021</td>\n",
       "      <td>6</td>\n",
       "      <td>48</td>\n",
       "      <td>100</td>\n",
       "      <td>e</td>\n",
       "    </tr>\n",
       "    <tr>\n",
       "      <th>9</th>\n",
       "      <td>ac</td>\n",
       "      <td>ee</td>\n",
       "      <td>2021</td>\n",
       "      <td>5</td>\n",
       "      <td>65</td>\n",
       "      <td>100</td>\n",
       "      <td>c</td>\n",
       "    </tr>\n",
       "    <tr>\n",
       "      <th>10</th>\n",
       "      <td>dc</td>\n",
       "      <td>ee</td>\n",
       "      <td>2021</td>\n",
       "      <td>6</td>\n",
       "      <td>66</td>\n",
       "      <td>100</td>\n",
       "      <td>c</td>\n",
       "    </tr>\n",
       "    <tr>\n",
       "      <th>11</th>\n",
       "      <td>cs</td>\n",
       "      <td>ee</td>\n",
       "      <td>2022</td>\n",
       "      <td>5</td>\n",
       "      <td>68</td>\n",
       "      <td>100</td>\n",
       "      <td>c</td>\n",
       "    </tr>\n",
       "    <tr>\n",
       "      <th>12</th>\n",
       "      <td>dataStruc</td>\n",
       "      <td>cs</td>\n",
       "      <td>2021</td>\n",
       "      <td>4</td>\n",
       "      <td>59</td>\n",
       "      <td>100</td>\n",
       "      <td>d</td>\n",
       "    </tr>\n",
       "    <tr>\n",
       "      <th>13</th>\n",
       "      <td>ds</td>\n",
       "      <td>Gen</td>\n",
       "      <td>2021</td>\n",
       "      <td>6</td>\n",
       "      <td>99</td>\n",
       "      <td>100</td>\n",
       "      <td>o</td>\n",
       "    </tr>\n",
       "    <tr>\n",
       "      <th>14</th>\n",
       "      <td>mil</td>\n",
       "      <td>ee</td>\n",
       "      <td>2022</td>\n",
       "      <td>7</td>\n",
       "      <td>96</td>\n",
       "      <td>100</td>\n",
       "      <td>o</td>\n",
       "    </tr>\n",
       "    <tr>\n",
       "      <th>15</th>\n",
       "      <td>english</td>\n",
       "      <td>Gen</td>\n",
       "      <td>2021</td>\n",
       "      <td>5</td>\n",
       "      <td>97</td>\n",
       "      <td>100</td>\n",
       "      <td>o</td>\n",
       "    </tr>\n",
       "    <tr>\n",
       "      <th>16</th>\n",
       "      <td>na1</td>\n",
       "      <td>ee</td>\n",
       "      <td>2022</td>\n",
       "      <td>7</td>\n",
       "      <td>93</td>\n",
       "      <td>100</td>\n",
       "      <td>o</td>\n",
       "    </tr>\n",
       "    <tr>\n",
       "      <th>17</th>\n",
       "      <td>na2</td>\n",
       "      <td>ee</td>\n",
       "      <td>2022</td>\n",
       "      <td>8</td>\n",
       "      <td>99</td>\n",
       "      <td>100</td>\n",
       "      <td>o</td>\n",
       "    </tr>\n",
       "  </tbody>\n",
       "</table>\n",
       "</div>"
      ],
      "text/plain": [
       "   Subject_name Subdivision  Year  Semester  Marks_scored  Max_marks Grade\n",
       "0          ttnm         Gen  2020         4            92        100     o\n",
       "1           dld          ec  2020         3            93        100     o\n",
       "2            m1          ec  2022         5            66        100     c\n",
       "3            ma         gen  2022         5            64        100     c\n",
       "4           edc          ee  2020         3            75        100     b\n",
       "5            mi          ec  2020         6            69        100     c\n",
       "6            m2          ee  2021         6            55        100     d\n",
       "7            m3          ge  2021         5            78        100     b\n",
       "8            py          ge  2021         6            48        100     e\n",
       "9            ac          ee  2021         5            65        100     c\n",
       "10           dc          ee  2021         6            66        100     c\n",
       "11           cs          ee  2022         5            68        100     c\n",
       "12    dataStruc          cs  2021         4            59        100     d\n",
       "13           ds         Gen  2021         6            99        100     o\n",
       "14          mil          ee  2022         7            96        100     o\n",
       "15      english         Gen  2021         5            97        100     o\n",
       "16          na1          ee  2022         7            93        100     o\n",
       "17          na2          ee  2022         8            99        100     o"
      ]
     },
     "execution_count": 14,
     "metadata": {},
     "output_type": "execute_result"
    }
   ],
   "source": [
    "df=pd.DataFrame(data)\n",
    "df"
   ]
  },
  {
   "cell_type": "code",
   "execution_count": 15,
   "id": "36f54b97",
   "metadata": {},
   "outputs": [
    {
     "data": {
      "text/plain": [
       "Year\n",
       "2020    82.250\n",
       "2021    70.875\n",
       "2022    81.000\n",
       "Name: Marks_scored, dtype: float64"
      ]
     },
     "execution_count": 15,
     "metadata": {},
     "output_type": "execute_result"
    }
   ],
   "source": [
    "df.groupby(\"Year\")[\"Marks_scored\"].mean()"
   ]
  },
  {
   "cell_type": "code",
   "execution_count": 16,
   "id": "d623c963",
   "metadata": {},
   "outputs": [
    {
     "data": {
      "text/plain": [
       "Semester\n",
       "3    84.0\n",
       "4    75.5\n",
       "5    73.0\n",
       "6    67.4\n",
       "7    94.5\n",
       "8    99.0\n",
       "Name: Marks_scored, dtype: float64"
      ]
     },
     "execution_count": 16,
     "metadata": {},
     "output_type": "execute_result"
    }
   ],
   "source": [
    "df.groupby('Semester')['Marks_scored'].mean()"
   ]
  },
  {
   "cell_type": "code",
   "execution_count": 17,
   "id": "6d460414",
   "metadata": {},
   "outputs": [
    {
     "data": {
      "text/plain": [
       "Subdivision\n",
       "Gen    96.000\n",
       "cs     59.000\n",
       "ec     76.000\n",
       "ee     77.125\n",
       "ge     63.000\n",
       "gen    64.000\n",
       "Name: Marks_scored, dtype: float64"
      ]
     },
     "execution_count": 17,
     "metadata": {},
     "output_type": "execute_result"
    }
   ],
   "source": [
    "df.groupby('Subdivision')['Marks_scored'].mean() "
   ]
  },
  {
   "cell_type": "code",
   "execution_count": 18,
   "id": "e11f1820",
   "metadata": {},
   "outputs": [
    {
     "data": {
      "text/plain": [
       "Grade\n",
       "b    76.500000\n",
       "c    66.333333\n",
       "d    57.000000\n",
       "e    48.000000\n",
       "o    95.571429\n",
       "Name: Marks_scored, dtype: float64"
      ]
     },
     "execution_count": 18,
     "metadata": {},
     "output_type": "execute_result"
    }
   ],
   "source": [
    "df.groupby('Grade')['Marks_scored'].mean()"
   ]
  },
  {
   "cell_type": "code",
   "execution_count": 20,
   "id": "7de38a17",
   "metadata": {},
   "outputs": [
    {
     "data": {
      "text/html": [
       "<div>\n",
       "<style scoped>\n",
       "    .dataframe tbody tr th:only-of-type {\n",
       "        vertical-align: middle;\n",
       "    }\n",
       "\n",
       "    .dataframe tbody tr th {\n",
       "        vertical-align: top;\n",
       "    }\n",
       "\n",
       "    .dataframe thead th {\n",
       "        text-align: right;\n",
       "    }\n",
       "</style>\n",
       "<table border=\"1\" class=\"dataframe\">\n",
       "  <thead>\n",
       "    <tr style=\"text-align: right;\">\n",
       "      <th></th>\n",
       "      <th>Subject_name</th>\n",
       "      <th>Subdivision</th>\n",
       "      <th>Year</th>\n",
       "      <th>Semester</th>\n",
       "      <th>Marks_scored</th>\n",
       "      <th>Max_marks</th>\n",
       "      <th>Grade</th>\n",
       "      <th>GradeCateg</th>\n",
       "    </tr>\n",
       "  </thead>\n",
       "  <tbody>\n",
       "    <tr>\n",
       "      <th>0</th>\n",
       "      <td>ttnm</td>\n",
       "      <td>Gen</td>\n",
       "      <td>2020</td>\n",
       "      <td>4</td>\n",
       "      <td>92</td>\n",
       "      <td>100</td>\n",
       "      <td>o</td>\n",
       "      <td>Excellent</td>\n",
       "    </tr>\n",
       "    <tr>\n",
       "      <th>1</th>\n",
       "      <td>dld</td>\n",
       "      <td>ec</td>\n",
       "      <td>2020</td>\n",
       "      <td>3</td>\n",
       "      <td>93</td>\n",
       "      <td>100</td>\n",
       "      <td>o</td>\n",
       "      <td>Excellent</td>\n",
       "    </tr>\n",
       "    <tr>\n",
       "      <th>2</th>\n",
       "      <td>m1</td>\n",
       "      <td>ec</td>\n",
       "      <td>2022</td>\n",
       "      <td>5</td>\n",
       "      <td>66</td>\n",
       "      <td>100</td>\n",
       "      <td>c</td>\n",
       "      <td>Average</td>\n",
       "    </tr>\n",
       "    <tr>\n",
       "      <th>3</th>\n",
       "      <td>ma</td>\n",
       "      <td>gen</td>\n",
       "      <td>2022</td>\n",
       "      <td>5</td>\n",
       "      <td>64</td>\n",
       "      <td>100</td>\n",
       "      <td>c</td>\n",
       "      <td>Average</td>\n",
       "    </tr>\n",
       "    <tr>\n",
       "      <th>4</th>\n",
       "      <td>edc</td>\n",
       "      <td>ee</td>\n",
       "      <td>2020</td>\n",
       "      <td>3</td>\n",
       "      <td>75</td>\n",
       "      <td>100</td>\n",
       "      <td>b</td>\n",
       "      <td>Good</td>\n",
       "    </tr>\n",
       "    <tr>\n",
       "      <th>5</th>\n",
       "      <td>mi</td>\n",
       "      <td>ec</td>\n",
       "      <td>2020</td>\n",
       "      <td>6</td>\n",
       "      <td>69</td>\n",
       "      <td>100</td>\n",
       "      <td>c</td>\n",
       "      <td>Average</td>\n",
       "    </tr>\n",
       "    <tr>\n",
       "      <th>6</th>\n",
       "      <td>m2</td>\n",
       "      <td>ee</td>\n",
       "      <td>2021</td>\n",
       "      <td>6</td>\n",
       "      <td>55</td>\n",
       "      <td>100</td>\n",
       "      <td>d</td>\n",
       "      <td>Average</td>\n",
       "    </tr>\n",
       "    <tr>\n",
       "      <th>7</th>\n",
       "      <td>m3</td>\n",
       "      <td>ge</td>\n",
       "      <td>2021</td>\n",
       "      <td>5</td>\n",
       "      <td>78</td>\n",
       "      <td>100</td>\n",
       "      <td>b</td>\n",
       "      <td>Good</td>\n",
       "    </tr>\n",
       "    <tr>\n",
       "      <th>8</th>\n",
       "      <td>py</td>\n",
       "      <td>ge</td>\n",
       "      <td>2021</td>\n",
       "      <td>6</td>\n",
       "      <td>48</td>\n",
       "      <td>100</td>\n",
       "      <td>e</td>\n",
       "      <td>Average</td>\n",
       "    </tr>\n",
       "    <tr>\n",
       "      <th>9</th>\n",
       "      <td>ac</td>\n",
       "      <td>ee</td>\n",
       "      <td>2021</td>\n",
       "      <td>5</td>\n",
       "      <td>65</td>\n",
       "      <td>100</td>\n",
       "      <td>c</td>\n",
       "      <td>Average</td>\n",
       "    </tr>\n",
       "    <tr>\n",
       "      <th>10</th>\n",
       "      <td>dc</td>\n",
       "      <td>ee</td>\n",
       "      <td>2021</td>\n",
       "      <td>6</td>\n",
       "      <td>66</td>\n",
       "      <td>100</td>\n",
       "      <td>c</td>\n",
       "      <td>Average</td>\n",
       "    </tr>\n",
       "    <tr>\n",
       "      <th>11</th>\n",
       "      <td>cs</td>\n",
       "      <td>ee</td>\n",
       "      <td>2022</td>\n",
       "      <td>5</td>\n",
       "      <td>68</td>\n",
       "      <td>100</td>\n",
       "      <td>c</td>\n",
       "      <td>Average</td>\n",
       "    </tr>\n",
       "    <tr>\n",
       "      <th>12</th>\n",
       "      <td>dataStruc</td>\n",
       "      <td>cs</td>\n",
       "      <td>2021</td>\n",
       "      <td>4</td>\n",
       "      <td>59</td>\n",
       "      <td>100</td>\n",
       "      <td>d</td>\n",
       "      <td>Average</td>\n",
       "    </tr>\n",
       "    <tr>\n",
       "      <th>13</th>\n",
       "      <td>ds</td>\n",
       "      <td>Gen</td>\n",
       "      <td>2021</td>\n",
       "      <td>6</td>\n",
       "      <td>99</td>\n",
       "      <td>100</td>\n",
       "      <td>o</td>\n",
       "      <td>Excellent</td>\n",
       "    </tr>\n",
       "    <tr>\n",
       "      <th>14</th>\n",
       "      <td>mil</td>\n",
       "      <td>ee</td>\n",
       "      <td>2022</td>\n",
       "      <td>7</td>\n",
       "      <td>96</td>\n",
       "      <td>100</td>\n",
       "      <td>o</td>\n",
       "      <td>Excellent</td>\n",
       "    </tr>\n",
       "    <tr>\n",
       "      <th>15</th>\n",
       "      <td>english</td>\n",
       "      <td>Gen</td>\n",
       "      <td>2021</td>\n",
       "      <td>5</td>\n",
       "      <td>97</td>\n",
       "      <td>100</td>\n",
       "      <td>o</td>\n",
       "      <td>Excellent</td>\n",
       "    </tr>\n",
       "    <tr>\n",
       "      <th>16</th>\n",
       "      <td>na1</td>\n",
       "      <td>ee</td>\n",
       "      <td>2022</td>\n",
       "      <td>7</td>\n",
       "      <td>93</td>\n",
       "      <td>100</td>\n",
       "      <td>o</td>\n",
       "      <td>Excellent</td>\n",
       "    </tr>\n",
       "    <tr>\n",
       "      <th>17</th>\n",
       "      <td>na2</td>\n",
       "      <td>ee</td>\n",
       "      <td>2022</td>\n",
       "      <td>8</td>\n",
       "      <td>99</td>\n",
       "      <td>100</td>\n",
       "      <td>o</td>\n",
       "      <td>Excellent</td>\n",
       "    </tr>\n",
       "  </tbody>\n",
       "</table>\n",
       "</div>"
      ],
      "text/plain": [
       "   Subject_name Subdivision  Year  Semester  Marks_scored  Max_marks Grade  \\\n",
       "0          ttnm         Gen  2020         4            92        100     o   \n",
       "1           dld          ec  2020         3            93        100     o   \n",
       "2            m1          ec  2022         5            66        100     c   \n",
       "3            ma         gen  2022         5            64        100     c   \n",
       "4           edc          ee  2020         3            75        100     b   \n",
       "5            mi          ec  2020         6            69        100     c   \n",
       "6            m2          ee  2021         6            55        100     d   \n",
       "7            m3          ge  2021         5            78        100     b   \n",
       "8            py          ge  2021         6            48        100     e   \n",
       "9            ac          ee  2021         5            65        100     c   \n",
       "10           dc          ee  2021         6            66        100     c   \n",
       "11           cs          ee  2022         5            68        100     c   \n",
       "12    dataStruc          cs  2021         4            59        100     d   \n",
       "13           ds         Gen  2021         6            99        100     o   \n",
       "14          mil          ee  2022         7            96        100     o   \n",
       "15      english         Gen  2021         5            97        100     o   \n",
       "16          na1          ee  2022         7            93        100     o   \n",
       "17          na2          ee  2022         8            99        100     o   \n",
       "\n",
       "   GradeCateg  \n",
       "0   Excellent  \n",
       "1   Excellent  \n",
       "2     Average  \n",
       "3     Average  \n",
       "4        Good  \n",
       "5     Average  \n",
       "6     Average  \n",
       "7        Good  \n",
       "8     Average  \n",
       "9     Average  \n",
       "10    Average  \n",
       "11    Average  \n",
       "12    Average  \n",
       "13  Excellent  \n",
       "14  Excellent  \n",
       "15  Excellent  \n",
       "16  Excellent  \n",
       "17  Excellent  "
      ]
     },
     "execution_count": 20,
     "metadata": {},
     "output_type": "execute_result"
    }
   ],
   "source": [
    "def GradeCategories(marks):\n",
    "    if marks>=90:\n",
    "        return 'Excellent'\n",
    "    elif marks>=80 :\n",
    "        return 'VeryGood'\n",
    "    elif marks>=70 :\n",
    "        return 'Good'\n",
    "    else:\n",
    "        return 'Average'\n",
    "    \n",
    "df['GradeCateg']=df['Marks_scored'].apply(GradeCategories)\n",
    "df"
   ]
  },
  {
   "cell_type": "code",
   "execution_count": 21,
   "id": "d6394f20",
   "metadata": {},
   "outputs": [
    {
     "data": {
      "text/html": [
       "<div>\n",
       "<style scoped>\n",
       "    .dataframe tbody tr th:only-of-type {\n",
       "        vertical-align: middle;\n",
       "    }\n",
       "\n",
       "    .dataframe tbody tr th {\n",
       "        vertical-align: top;\n",
       "    }\n",
       "\n",
       "    .dataframe thead th {\n",
       "        text-align: right;\n",
       "    }\n",
       "</style>\n",
       "<table border=\"1\" class=\"dataframe\">\n",
       "  <thead>\n",
       "    <tr style=\"text-align: right;\">\n",
       "      <th></th>\n",
       "      <th>Year</th>\n",
       "      <th>Semester</th>\n",
       "      <th>Marks_scored</th>\n",
       "      <th>Max_marks</th>\n",
       "    </tr>\n",
       "  </thead>\n",
       "  <tbody>\n",
       "    <tr>\n",
       "      <th>count</th>\n",
       "      <td>18.000000</td>\n",
       "      <td>18.000000</td>\n",
       "      <td>18.000000</td>\n",
       "      <td>18.0</td>\n",
       "    </tr>\n",
       "    <tr>\n",
       "      <th>mean</th>\n",
       "      <td>2021.111111</td>\n",
       "      <td>5.333333</td>\n",
       "      <td>76.777778</td>\n",
       "      <td>100.0</td>\n",
       "    </tr>\n",
       "    <tr>\n",
       "      <th>std</th>\n",
       "      <td>0.758395</td>\n",
       "      <td>1.328422</td>\n",
       "      <td>16.836779</td>\n",
       "      <td>0.0</td>\n",
       "    </tr>\n",
       "    <tr>\n",
       "      <th>min</th>\n",
       "      <td>2020.000000</td>\n",
       "      <td>3.000000</td>\n",
       "      <td>48.000000</td>\n",
       "      <td>100.0</td>\n",
       "    </tr>\n",
       "    <tr>\n",
       "      <th>25%</th>\n",
       "      <td>2021.000000</td>\n",
       "      <td>5.000000</td>\n",
       "      <td>65.250000</td>\n",
       "      <td>100.0</td>\n",
       "    </tr>\n",
       "    <tr>\n",
       "      <th>50%</th>\n",
       "      <td>2021.000000</td>\n",
       "      <td>5.000000</td>\n",
       "      <td>72.000000</td>\n",
       "      <td>100.0</td>\n",
       "    </tr>\n",
       "    <tr>\n",
       "      <th>75%</th>\n",
       "      <td>2022.000000</td>\n",
       "      <td>6.000000</td>\n",
       "      <td>93.000000</td>\n",
       "      <td>100.0</td>\n",
       "    </tr>\n",
       "    <tr>\n",
       "      <th>max</th>\n",
       "      <td>2022.000000</td>\n",
       "      <td>8.000000</td>\n",
       "      <td>99.000000</td>\n",
       "      <td>100.0</td>\n",
       "    </tr>\n",
       "  </tbody>\n",
       "</table>\n",
       "</div>"
      ],
      "text/plain": [
       "              Year   Semester  Marks_scored  Max_marks\n",
       "count    18.000000  18.000000     18.000000       18.0\n",
       "mean   2021.111111   5.333333     76.777778      100.0\n",
       "std       0.758395   1.328422     16.836779        0.0\n",
       "min    2020.000000   3.000000     48.000000      100.0\n",
       "25%    2021.000000   5.000000     65.250000      100.0\n",
       "50%    2021.000000   5.000000     72.000000      100.0\n",
       "75%    2022.000000   6.000000     93.000000      100.0\n",
       "max    2022.000000   8.000000     99.000000      100.0"
      ]
     },
     "execution_count": 21,
     "metadata": {},
     "output_type": "execute_result"
    }
   ],
   "source": [
    "df.describe()"
   ]
  },
  {
   "cell_type": "code",
   "execution_count": 22,
   "id": "f561a7d5",
   "metadata": {},
   "outputs": [
    {
     "data": {
      "text/plain": [
       "84.0"
      ]
     },
     "execution_count": 22,
     "metadata": {},
     "output_type": "execute_result"
    }
   ],
   "source": [
    "df[df['Semester']==3]['Marks_scored'].mean()"
   ]
  },
  {
   "cell_type": "code",
   "execution_count": 23,
   "id": "aaf82226",
   "metadata": {},
   "outputs": [
    {
     "data": {
      "text/plain": [
       "84.0"
      ]
     },
     "execution_count": 23,
     "metadata": {},
     "output_type": "execute_result"
    }
   ],
   "source": [
    "df[df['Semester']==3]['Marks_scored'].median()"
   ]
  },
  {
   "cell_type": "code",
   "execution_count": 24,
   "id": "dfc25cd9",
   "metadata": {},
   "outputs": [
    {
     "data": {
      "text/plain": [
       "75.5"
      ]
     },
     "execution_count": 24,
     "metadata": {},
     "output_type": "execute_result"
    }
   ],
   "source": [
    "df[df['Semester']==4]['Marks_scored'].mean()"
   ]
  },
  {
   "cell_type": "code",
   "execution_count": 25,
   "id": "80e5f0ee",
   "metadata": {},
   "outputs": [
    {
     "data": {
      "text/plain": [
       "23.33452377915607"
      ]
     },
     "execution_count": 25,
     "metadata": {},
     "output_type": "execute_result"
    }
   ],
   "source": [
    "df[df['Semester']==4]['Marks_scored'].std()"
   ]
  },
  {
   "cell_type": "code",
   "execution_count": 26,
   "id": "4d6b5357",
   "metadata": {},
   "outputs": [
    {
     "data": {
      "text/plain": [
       "75.5"
      ]
     },
     "execution_count": 26,
     "metadata": {},
     "output_type": "execute_result"
    }
   ],
   "source": [
    "df[df['Semester']==4]['Marks_scored'].median()"
   ]
  },
  {
   "cell_type": "code",
   "execution_count": 27,
   "id": "b83d6ac9",
   "metadata": {},
   "outputs": [
    {
     "data": {
      "text/plain": [
       "23.33452377915607"
      ]
     },
     "execution_count": 27,
     "metadata": {},
     "output_type": "execute_result"
    }
   ],
   "source": [
    "df[df['Semester']==4]['Marks_scored'].std()"
   ]
  },
  {
   "cell_type": "code",
   "execution_count": 28,
   "id": "f251eeeb",
   "metadata": {},
   "outputs": [
    {
     "data": {
      "text/plain": [
       "73.0"
      ]
     },
     "execution_count": 28,
     "metadata": {},
     "output_type": "execute_result"
    }
   ],
   "source": [
    "df[df['Semester']==5]['Marks_scored'].mean()"
   ]
  },
  {
   "cell_type": "code",
   "execution_count": 30,
   "id": "5685c62f",
   "metadata": {},
   "outputs": [
    {
     "data": {
      "text/plain": [
       "12.806248474865697"
      ]
     },
     "execution_count": 30,
     "metadata": {},
     "output_type": "execute_result"
    }
   ],
   "source": [
    "\n",
    "df[df['Semester']==5]['Marks_scored'].std()"
   ]
  },
  {
   "cell_type": "code",
   "execution_count": 31,
   "id": "59029a4d",
   "metadata": {},
   "outputs": [
    {
     "data": {
      "text/plain": [
       "67.4"
      ]
     },
     "execution_count": 31,
     "metadata": {},
     "output_type": "execute_result"
    }
   ],
   "source": [
    "df[df['Semester']==6]['Marks_scored'].mean()"
   ]
  },
  {
   "cell_type": "code",
   "execution_count": 32,
   "id": "65c4c0af",
   "metadata": {},
   "outputs": [
    {
     "data": {
      "text/plain": [
       "66.0"
      ]
     },
     "execution_count": 32,
     "metadata": {},
     "output_type": "execute_result"
    }
   ],
   "source": [
    "df[df['Semester']==6]['Marks_scored'].median()"
   ]
  },
  {
   "cell_type": "code",
   "execution_count": 33,
   "id": "b814f74c",
   "metadata": {},
   "outputs": [
    {
     "data": {
      "text/plain": [
       "19.578048932414077"
      ]
     },
     "execution_count": 33,
     "metadata": {},
     "output_type": "execute_result"
    }
   ],
   "source": [
    "df[df['Semester']==6]['Marks_scored'].std()"
   ]
  },
  {
   "cell_type": "code",
   "execution_count": 34,
   "id": "a4cc1710",
   "metadata": {},
   "outputs": [
    {
     "data": {
      "text/plain": [
       "94.5"
      ]
     },
     "execution_count": 34,
     "metadata": {},
     "output_type": "execute_result"
    }
   ],
   "source": [
    "df[df['Semester']==7]['Marks_scored'].mean()"
   ]
  },
  {
   "cell_type": "code",
   "execution_count": 35,
   "id": "56d61bfc",
   "metadata": {},
   "outputs": [
    {
     "data": {
      "text/plain": [
       "94.5"
      ]
     },
     "execution_count": 35,
     "metadata": {},
     "output_type": "execute_result"
    }
   ],
   "source": [
    "df[df['Semester']==7]['Marks_scored'].median()"
   ]
  },
  {
   "cell_type": "code",
   "execution_count": 36,
   "id": "49b6521a",
   "metadata": {},
   "outputs": [
    {
     "data": {
      "text/plain": [
       "99.0"
      ]
     },
     "execution_count": 36,
     "metadata": {},
     "output_type": "execute_result"
    }
   ],
   "source": [
    "df[df['Semester']==8]['Marks_scored'].mean()"
   ]
  },
  {
   "cell_type": "code",
   "execution_count": 37,
   "id": "bb815986",
   "metadata": {},
   "outputs": [
    {
     "data": {
      "text/plain": [
       "2.1213203435596424"
      ]
     },
     "execution_count": 37,
     "metadata": {},
     "output_type": "execute_result"
    }
   ],
   "source": [
    "df[df['Semester']==7]['Marks_scored'].std()"
   ]
  },
  {
   "cell_type": "code",
   "execution_count": 38,
   "id": "0d9d95ad",
   "metadata": {},
   "outputs": [
    {
     "data": {
      "text/plain": [
       "99.0"
      ]
     },
     "execution_count": 38,
     "metadata": {},
     "output_type": "execute_result"
    }
   ],
   "source": [
    "df[df['Semester']==8]['Marks_scored'].median()"
   ]
  },
  {
   "cell_type": "code",
   "execution_count": 39,
   "id": "bc0416b1",
   "metadata": {},
   "outputs": [
    {
     "data": {
      "text/plain": [
       "nan"
      ]
     },
     "execution_count": 39,
     "metadata": {},
     "output_type": "execute_result"
    }
   ],
   "source": [
    "df[df['Semester']==8]['Marks_scored'].std()"
   ]
  },
  {
   "cell_type": "code",
   "execution_count": 41,
   "id": "b7339fd2",
   "metadata": {},
   "outputs": [
    {
     "data": {
      "text/plain": [
       "Text(0.5, 1.0, 'Semester wise average marks by line plot')"
      ]
     },
     "execution_count": 41,
     "metadata": {},
     "output_type": "execute_result"
    },
    {
     "data": {
      "image/png": "[encoded data removed]",
      "text/plain": [
       "<Figure size 640x480 with 1 Axes>"
      ]
     },
     "metadata": {},
     "output_type": "display_data"
    }
   ],
   "source": [
    "import matplotlib.pyplot as plt\n",
    "avg_marks=[df[df['Semester']==3]['Marks_scored'].mean()\n",
    ",df[df['Semester']==4]['Marks_scored'].mean()\n",
    ",df[df['Semester']==5]['Marks_scored'].mean()\n",
    ",df[df['Semester']==6]['Marks_scored'].mean()\n",
    ",df[df['Semester']==7]['Marks_scored'].mean(),\n",
    "df[df['Semester']==8]['Marks_scored'].mean()\n",
    "]\n",
    "semesters=[3,4,5,6,7,8]\n",
    "plt.plot(semesters,avg_marks,label='Average')\n",
    "plt.xlabel('Semester')\n",
    "plt.ylabel('Avg-marks')\n",
    "plt.title('Semester wise average marks by line plot')"
   ]
  },
  {
   "cell_type": "code",
   "execution_count": 42,
   "id": "315a1fee",
   "metadata": {},
   "outputs": [
    {
     "data": {
      "text/plain": [
       "Text(0.5, 1.0, 'Semester wise average marks by BAR plot')"
      ]
     },
     "execution_count": 42,
     "metadata": {},
     "output_type": "execute_result"
    },
    {
     "data": {
      "image/png": "[encoded data removed]",
      "text/plain": [
       "<Figure size 640x480 with 1 Axes>"
      ]
     },
     "metadata": {},
     "output_type": "display_data"
    }
   ],
   "source": [
    "plt.bar(semesters,avg_marks,label='Average')\n",
    "plt.xlabel('Semester')\n",
    "plt.ylabel('Avg-marks')\n",
    "plt.title('Semester wise average marks by BAR plot')"
   ]
  },
  {
   "cell_type": "code",
   "execution_count": 43,
   "id": "d6454b38",
   "metadata": {},
   "outputs": [
    {
     "data": {
      "text/plain": [
       "(array([1., 1., 1., 0., 0., 1., 0., 0., 1., 1.]),\n",
       " array([67.4 , 70.56, 73.72, 76.88, 80.04, 83.2 , 86.36, 89.52, 92.68,\n",
       "        95.84, 99.  ]),\n",
       " <BarContainer object of 10 artists>)"
      ]
     },
     "execution_count": 43,
     "metadata": {},
     "output_type": "execute_result"
    },
    {
     "data": {
      "image/png": "[encoded data removed]",
      "text/plain": [
       "<Figure size 640x480 with 1 Axes>"
      ]
     },
     "metadata": {},
     "output_type": "display_data"
    }
   ],
   "source": [
    "plt.hist(avg_marks)"
   ]
  },
  {
   "cell_type": "code",
   "execution_count": 44,
   "id": "8481737f",
   "metadata": {},
   "outputs": [
    {
     "data": {
      "text/plain": [
       "{'whiskers': [<matplotlib.lines.Line2D at 0x1f17d71ee30>,\n",
       "  <matplotlib.lines.Line2D at 0x1f17d71f0d0>],\n",
       " 'caps': [<matplotlib.lines.Line2D at 0x1f17d71f370>,\n",
       "  <matplotlib.lines.Line2D at 0x1f17d71f610>],\n",
       " 'boxes': [<matplotlib.lines.Line2D at 0x1f17d71eb90>],\n",
       " 'medians': [<matplotlib.lines.Line2D at 0x1f17d71f8b0>],\n",
       " 'fliers': [<matplotlib.lines.Line2D at 0x1f17d71fb50>],\n",
       " 'means': []}"
      ]
     },
     "execution_count": 44,
     "metadata": {},
     "output_type": "execute_result"
    },
    {
     "data": {
      "image/png": "[encoded data removed]",
      "text/plain": [
       "<Figure size 640x480 with 1 Axes>"
      ]
     },
     "metadata": {},
     "output_type": "display_data"
    }
   ],
   "source": [
    "plt.boxplot(avg_marks)"
   ]
  },
  {
   "cell_type": "code",
   "execution_count": 45,
   "id": "ce7c4dd6",
   "metadata": {},
   "outputs": [
    {
     "data": {
      "text/plain": [
       "[92, 93, 66, 64, 75, 69, 55, 78, 48, 65, 66, 68, 59, 99, 96, 97, 93, 99]"
      ]
     },
     "execution_count": 45,
     "metadata": {},
     "output_type": "execute_result"
    }
   ],
   "source": [
    "a=[]\n",
    "for j in (df['Marks_scored']):\n",
    "    a.append(j)\n",
    "a "
   ]
  },
  {
   "cell_type": "code",
   "execution_count": 46,
   "id": "fecf43ff",
   "metadata": {},
   "outputs": [
    {
     "data": {
      "text/plain": [
       "(array([1., 1., 1., 5., 1., 2., 0., 0., 3., 4.]),\n",
       " array([48. , 53.1, 58.2, 63.3, 68.4, 73.5, 78.6, 83.7, 88.8, 93.9, 99. ]),\n",
       " <BarContainer object of 10 artists>)"
      ]
     },
     "execution_count": 46,
     "metadata": {},
     "output_type": "execute_result"
    },
    {
     "data": {
      "image/png": "[encoded data removed]",
      "text/plain": [
       "<Figure size 640x480 with 1 Axes>"
      ]
     },
     "metadata": {},
     "output_type": "display_data"
    }
   ],
   "source": [
    "plt.hist(a)"
   ]
  },
  {
   "cell_type": "code",
   "execution_count": 47,
   "id": "93b21dfc",
   "metadata": {},
   "outputs": [
    {
     "data": {
      "text/plain": [
       "{'whiskers': [<matplotlib.lines.Line2D at 0x1f17eecbb80>,\n",
       "  <matplotlib.lines.Line2D at 0x1f17eecbe20>],\n",
       " 'caps': [<matplotlib.lines.Line2D at 0x1f17eef8100>,\n",
       "  <matplotlib.lines.Line2D at 0x1f17eef82b0>],\n",
       " 'boxes': [<matplotlib.lines.Line2D at 0x1f17eecb8e0>],\n",
       " 'medians': [<matplotlib.lines.Line2D at 0x1f17eef8550>],\n",
       " 'fliers': [<matplotlib.lines.Line2D at 0x1f17eef87c0>],\n",
       " 'means': []}"
      ]
     },
     "execution_count": 47,
     "metadata": {},
     "output_type": "execute_result"
    },
    {
     "data": {
      "image/png": "[encoded data removed]",
      "text/plain": [
       "<Figure size 640x480 with 1 Axes>"
      ]
     },
     "metadata": {},
     "output_type": "display_data"
    }
   ],
   "source": [
    "plt.boxplot(a)"
   ]
  },
  {
   "cell_type": "code",
   "execution_count": null,
   "id": "b7a5739b",
   "metadata": {},
   "outputs": [],
   "source": []
  }
 ],
 "metadata": {
  "kernelspec": {
   "display_name": "Python 3 (ipykernel)",
   "language": "python",
   "name": "python3"
  },
  "language_info": {
   "codemirror_mode": {
    "name": "ipython",
    "version": 3
   },
   "file_extension": ".py",
   "mimetype": "text/x-python",
   "name": "python",
   "nbconvert_exporter": "python",
   "pygments_lexer": "ipython3",
   "version": "3.10.9"
  }
 },
 "nbformat": 4,
 "nbformat_minor": 5
}
